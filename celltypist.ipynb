{
 "cells": [
  {
   "cell_type": "code",
   "execution_count": 23,
   "id": "0f05e259-c3f2-4123-8020-e2b2fc775f39",
   "metadata": {},
   "outputs": [],
   "source": [
    "# instllation\n",
    "# pip install celltypist\n",
    "\n",
    "\n",
    "\n",
    "import os\n",
    "import pandas as pd\n",
    "import numpy as np\n",
    "import celltypist\n",
    "from celltypist import models\n",
    "import matplotlib.pyplot as plt\n",
    "import seaborn as sns"
   ]
  },
  {
   "cell_type": "code",
   "execution_count": 25,
   "id": "42f4676d-4b66-4186-8707-f89a5a3a0117",
   "metadata": {},
   "outputs": [],
   "source": [
    "workdir = \"/Users/funingtian/Dropbox/UChicago/CRI_ftian1/scRNAseq/\"\n",
    "os.chdir(workdir)"
   ]
  },
  {
   "cell_type": "code",
   "execution_count": null,
   "id": "2405dd59-7bcb-46b0-ab08-3f4090414eb9",
   "metadata": {},
   "outputs": [],
   "source": [
    "# models.download_models(force_update = True)\n",
    "model = models.Model.load(model = 'Human_Lung_Atlas.pkl')\n",
    "count_matrix = \"integration_2_leiden/metadata/integration_2_leiden_rna_counts.csv\"\n",
    "predictions = celltypist.annotate(count_matrix, model = model, transpose_input = True)"
   ]
  },
  {
   "cell_type": "code",
   "execution_count": null,
   "id": "1ccba097-2392-45a2-8a1f-cb92d13f2480",
   "metadata": {},
   "outputs": [],
   "source": [
    "predictions.predicted_labels[predictions.predicted_labels['predicted_labels'].isna()]"
   ]
  },
  {
   "cell_type": "code",
   "execution_count": null,
   "id": "b704be77-4b17-423c-be8d-f5630570112e",
   "metadata": {},
   "outputs": [],
   "source": [
    "predictions.to_table(folder = 'integration_2_leiden/metadata/', \n",
    "                     prefix = 'integration_2_leiden_celltypist_')"
   ]
  },
  {
   "cell_type": "code",
   "execution_count": null,
   "id": "375b8905-2f1c-41bb-82ec-50115071814b",
   "metadata": {},
   "outputs": [],
   "source": []
  },
  {
   "cell_type": "code",
   "execution_count": null,
   "id": "45a97010-988b-464b-8f5d-4dbede4f9f3b",
   "metadata": {},
   "outputs": [],
   "source": []
  },
  {
   "cell_type": "code",
   "execution_count": 97,
   "id": "1abe7947-41b5-45e2-bb70-6680942bd0e7",
   "metadata": {},
   "outputs": [],
   "source": [
    "metadata = pd.read_csv('integration_2_leiden/metadata/integration_2_leiden_meta.data.csv')\n",
    "original = pd.read_csv('integration_2_leiden/metadata/integration_1_louvain_metadata.csv')\n",
    "pred = pd.read_csv(\"integration_2_leiden/metadata/integration_2_leiden_celltypist_predicted_labels.csv\")"
   ]
  },
  {
   "cell_type": "code",
   "execution_count": 99,
   "id": "9b6b3443-5bc6-402e-ad05-0d3cba5791bc",
   "metadata": {},
   "outputs": [],
   "source": [
    "# metadata.head()"
   ]
  },
  {
   "cell_type": "code",
   "execution_count": 101,
   "id": "6d8f29c7-9712-462a-ad2c-b088ccd39ca3",
   "metadata": {},
   "outputs": [],
   "source": [
    "# metadata[metadata['orig.ident'] == \"681_Ig_18h\"].head()"
   ]
  },
  {
   "cell_type": "code",
   "execution_count": 103,
   "id": "de12a490-15e2-4506-925e-3fcc6453b2b0",
   "metadata": {},
   "outputs": [],
   "source": [
    "# substring that last underscore in both metadata and original_681_Ig_18h\n",
    "metadata.loc[:, 'new_barcodes'] = metadata['Unnamed: 0'].apply(lambda x: '_'.join(x.split('_')[:-1]))\n",
    "original.loc[:, 'new_barcodes'] = original['Unnamed: 0'].apply(lambda x: '_'.join(x.split('_')[:-1]))\n",
    "\n",
    "metadata['expCond.media'] = 'CTS' #!!!!!\n",
    "# create a mapping of 'new_barcodes' to 'orig.ident' from original_681_Ig_18h\n",
    "for col in ['expCond.media', 'orig.ident']: # do media first, otherwise orig.ident changes\n",
    "    barcode_681_Ig_18h = original[original['orig.ident.type'] == \"681_Ig_18h\"].set_index('new_barcodes')[col].to_dict()\n",
    "    barcode_other = original[original['orig.ident.type'] != \"681_Ig_18h\"].set_index('new_barcodes')[col].to_dict()\n",
    "    metadata.loc[\n",
    "        metadata['orig.ident'] == \"681_Ig_18h\", col\n",
    "    ] = metadata.loc[\n",
    "        metadata['orig.ident'] == '681_Ig_18h', 'new_barcodes'\n",
    "    ].map(barcode_681_Ig_18h).fillna(metadata[col]) # Update 'orig.ident' only for '681_Ig_18h'\n",
    "    metadata.loc[\n",
    "        metadata['orig.ident'] == \"original\", col\n",
    "    ] = metadata.loc[\n",
    "        metadata['orig.ident'] == \"original\", 'new_barcodes'\n",
    "    ].map(barcode_other).fillna(metadata[col])     # Update 'orig.ident' for other conditions\n",
    "\n",
    "\n",
    "# Drop the temporary 'new_barcodes' column\n",
    "metadata = metadata.drop(columns=['new_barcodes'])"
   ]
  },
  {
   "cell_type": "code",
   "execution_count": 105,
   "id": "59b69c51-fe59-4c34-b1b5-0bafc4a4756f",
   "metadata": {},
   "outputs": [
    {
     "data": {
      "text/plain": [
       "False"
      ]
     },
     "execution_count": 105,
     "metadata": {},
     "output_type": "execute_result"
    }
   ],
   "source": [
    "# after removing the last _, no duplicates in either category\n",
    "original[original['orig.ident.type'] == \"681_Ig_18h\"][\"new_barcodes\"].duplicated().any()"
   ]
  },
  {
   "cell_type": "code",
   "execution_count": 107,
   "id": "bf7941e8-f6fa-4777-b8d7-407acba1e8b8",
   "metadata": {},
   "outputs": [
    {
     "data": {
      "text/plain": [
       "False"
      ]
     },
     "execution_count": 107,
     "metadata": {},
     "output_type": "execute_result"
    }
   ],
   "source": [
    "original[original['orig.ident.type'] != \"681_Ig_18h\"][\"new_barcodes\"].duplicated().any()"
   ]
  },
  {
   "cell_type": "code",
   "execution_count": 109,
   "id": "64095af9-e2d0-4b1f-a980-2c292313614f",
   "metadata": {},
   "outputs": [],
   "source": [
    "# populate other columns\n",
    "metadata.loc[:, 'expCond.sample'] = metadata['orig.ident'].apply(lambda x: '_'.join(x.split('_')[1:]))\n",
    "metadata['expCond.sample'] = metadata['expCond.sample'].str.replace('unstim', 'Unstim', regex=True)\n",
    "metadata['expCond.sample'] = metadata['expCond.sample'].str.replace('RPMI', '0h', regex=True)\n",
    "metadata['expCond.sample'] = metadata['expCond.sample'].str.replace('CTS', '0h', regex=True)\n",
    "metadata.loc[:, 'expCond.donor'] = metadata['orig.ident'].apply(lambda x: x.split('_')[1])\n",
    "\n",
    "metadata.loc[:, 'expCond.time'] = metadata['orig.ident'].apply(lambda x: x.split('_')[-1])\n",
    "metadata['expCond.time'] = metadata['expCond.time'].str.replace('RPMI', '0h', regex=True)\n",
    "metadata['expCond.time'] = metadata['expCond.time'].str.replace('CTS', '0h', regex=True)\n",
    "metadata.loc[:, 'expCond.lib'] = metadata['orig.ident'].apply(lambda x: x.split('_')[0])\n",
    "metadata.loc[:, 'expCond.stimuli'] = metadata['orig.ident'].apply(lambda x: x.split('_')[-2])\n",
    "\n",
    "metadata['expCond.stimuli.time'] = metadata['expCond.stimuli'] + \"_\" + metadata['expCond.time']\n",
    "metadata['expCond.donor.stimuli.time'] = metadata['expCond.donor'].astype(str) + \"_\" + metadata['expCond.stimuli.time']\n",
    "\n",
    "asthma = {'569': \"Asthmatic\", '589': \"Asthmatic\", '548': \"Non-asthmatic\", \n",
    " '699': \"Non-asthmatic\", '678': \"Asthmatic\", '633': \"Non-asthmatic\", \n",
    " '640': \"Non-asthmatic\", '662': \"Asthmatic\", '616': \"Non-asthmatic\",\n",
    " '602': \"Asthmatic\", '681': \"Non-asthmatic\", '673': \"Asthmatic\"}\n",
    "\n",
    "metadata['expCond.asthma'] = metadata['expCond.donor'].map(asthma)\n",
    "\n",
    "metadata = metadata.drop(columns=['expCond', 'expCond1'])"
   ]
  },
  {
   "cell_type": "code",
   "execution_count": null,
   "id": "587748d0-eac2-45b6-84c9-16b82d8cdd3c",
   "metadata": {},
   "outputs": [],
   "source": [
    "metadata_annot = pd.merge(metadata, pred, on=['Unnamed: 0'], how='left') "
   ]
  },
  {
   "cell_type": "code",
   "execution_count": null,
   "id": "4b6ee74f-9534-43cf-b4cf-a8aa024cb4e5",
   "metadata": {},
   "outputs": [],
   "source": [
    "metadata_annot.isna().any().any()"
   ]
  },
  {
   "cell_type": "code",
   "execution_count": null,
   "id": "76987e60-1455-4898-b74c-7adfaa06fae2",
   "metadata": {},
   "outputs": [],
   "source": [
    "metadata_annot.to_csv(\"integration_2_leiden/metadata/integration_2_leiden_meta.data.celltypist.csv\", \n",
    "                      index=False)"
   ]
  },
  {
   "cell_type": "code",
   "execution_count": null,
   "id": "16034356-0e61-4ccb-abe2-56c494f028ba",
   "metadata": {},
   "outputs": [],
   "source": []
  },
  {
   "cell_type": "code",
   "execution_count": null,
   "id": "ea8e0b9b-4ac5-4155-8343-7930986e890c",
   "metadata": {},
   "outputs": [],
   "source": []
  }
 ],
 "metadata": {
  "kernelspec": {
   "display_name": "Python 3 (ipykernel)",
   "language": "python",
   "name": "python3"
  },
  "language_info": {
   "codemirror_mode": {
    "name": "ipython",
    "version": 3
   },
   "file_extension": ".py",
   "mimetype": "text/x-python",
   "name": "python",
   "nbconvert_exporter": "python",
   "pygments_lexer": "ipython3",
   "version": "3.12.4"
  }
 },
 "nbformat": 4,
 "nbformat_minor": 5
}
